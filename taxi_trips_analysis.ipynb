{
 "cells": [
  {
   "cell_type": "code",
   "execution_count": 0,
   "metadata": {
    "application/vnd.databricks.v1+cell": {
     "cellMetadata": {
      "byteLimit": 2048000,
      "rowLimit": 10000
     },
     "inputWidgets": {},
     "nuid": "c063377d-4a24-4048-8696-a9c97dee9e7d",
     "showTitle": false,
     "tableResultSettingsMap": {},
     "title": ""
    }
   },
   "outputs": [],
   "source": [
    "# Start a Spark session.\n",
    "from pyspark.sql import SparkSession\n",
    "\n",
    "spark = SparkSession.builder \\\n",
    "    .appName('PySparkMLDemo') \\\n",
    "    .getOrCreate()"
   ]
  },
  {
   "cell_type": "code",
   "execution_count": 0,
   "metadata": {
    "application/vnd.databricks.v1+cell": {
     "cellMetadata": {
      "byteLimit": 2048000,
      "rowLimit": 10000
     },
     "inputWidgets": {},
     "nuid": "8c0888cb-4fd7-420d-91bc-0547c1d50e47",
     "showTitle": false,
     "tableResultSettingsMap": {},
     "title": ""
    }
   },
   "outputs": [],
   "source": [
    "# Goal: Create a dataframe with our NYC taxi data.\n",
    "# I'll leverage Spark to read in our dataset.\n",
    "\n",
    "# Import our full dataset with Spark SQL.\n",
    "df = spark.sql('SELECT * FROM taxi_trips_perm')\n",
    "\n",
    "# Filtering here -- e.g. WHERE fare_amount > 0 -- is often easier and faster than using Spark."
   ]
  },
  {
   "cell_type": "code",
   "execution_count": 0,
   "metadata": {
    "application/vnd.databricks.v1+cell": {
     "cellMetadata": {
      "byteLimit": 2048000,
      "rowLimit": 10000
     },
     "inputWidgets": {},
     "nuid": "c7522199-8ecb-4f21-9015-80d8ae47ade1",
     "showTitle": false,
     "tableResultSettingsMap": {},
     "title": ""
    }
   },
   "outputs": [
    {
     "output_type": "stream",
     "name": "stdout",
     "output_type": "stream",
     "text": [
      "root\n |-- VendorID: integer (nullable = true)\n |-- tpep_pickup_datetime: timestamp (nullable = true)\n |-- tpep_dropoff_datetime: timestamp (nullable = true)\n |-- passenger_count: long (nullable = true)\n |-- trip_distance: double (nullable = true)\n |-- RatecodeID: long (nullable = true)\n |-- store_and_fwd_flag: string (nullable = true)\n |-- PULocationID: integer (nullable = true)\n |-- DOLocationID: integer (nullable = true)\n |-- payment_type: long (nullable = true)\n |-- fare_amount: double (nullable = true)\n |-- extra: double (nullable = true)\n |-- mta_tax: double (nullable = true)\n |-- tip_amount: double (nullable = true)\n |-- tolls_amount: double (nullable = true)\n |-- improvement_surcharge: double (nullable = true)\n |-- total_amount: double (nullable = true)\n |-- congestion_surcharge: double (nullable = true)\n |-- Airport_fee: double (nullable = true)\n\n"
     ]
    }
   ],
   "source": [
    "df.printSchema()"
   ]
  },
  {
   "cell_type": "code",
   "execution_count": 0,
   "metadata": {
    "application/vnd.databricks.v1+cell": {
     "cellMetadata": {
      "byteLimit": 2048000,
      "rowLimit": 10000
     },
     "inputWidgets": {},
     "nuid": "5a96fbde-abb1-4747-96a7-72d04f105c19",
     "showTitle": false,
     "tableResultSettingsMap": {},
     "title": ""
    }
   },
   "outputs": [
    {
     "output_type": "stream",
     "name": "stdout",
     "output_type": "stream",
     "text": [
      "Number of rows:  3833771\n"
     ]
    }
   ],
   "source": [
    "print('Number of rows: ', df.count())"
   ]
  },
  {
   "cell_type": "code",
   "execution_count": 0,
   "metadata": {
    "application/vnd.databricks.v1+cell": {
     "cellMetadata": {
      "byteLimit": 2048000,
      "rowLimit": 10000
     },
     "inputWidgets": {},
     "nuid": "3fd5a479-1e9b-4281-a8c8-7f07e1c5091b",
     "showTitle": false,
     "tableResultSettingsMap": {},
     "title": ""
    }
   },
   "outputs": [
    {
     "output_type": "stream",
     "name": "stdout",
     "output_type": "stream",
     "text": [
      "+--------+--------------------+---------------------+---------------+-------------+----------+------------------+------------+------------+------------+-----------+-----+-------+----------+------------+---------------------+------------+--------------------+-----------+\n|VendorID|tpep_pickup_datetime|tpep_dropoff_datetime|passenger_count|trip_distance|RatecodeID|store_and_fwd_flag|PULocationID|DOLocationID|payment_type|fare_amount|extra|mta_tax|tip_amount|tolls_amount|improvement_surcharge|total_amount|congestion_surcharge|Airport_fee|\n+--------+--------------------+---------------------+---------------+-------------+----------+------------------+------------+------------+------------+-----------+-----+-------+----------+------------+---------------------+------------+--------------------+-----------+\n|       2| 2024-10-01 00:30:44|  2024-10-01 00:48:26|              1|          3.0|         1|                 N|         162|         246|           1|       18.4|  1.0|    0.5|       1.5|         0.0|                  1.0|        24.9|                 2.5|        0.0|\n|       1| 2024-10-01 00:12:20|  2024-10-01 00:25:25|              1|          2.2|         1|                 N|          48|         236|           1|       14.2|  3.5|    0.5|       3.8|         0.0|                  1.0|        23.0|                 2.5|        0.0|\n|       1| 2024-10-01 00:04:46|  2024-10-01 00:13:52|              1|          2.7|         1|                 N|         142|          24|           1|       13.5|  3.5|    0.5|       3.7|         0.0|                  1.0|        22.2|                 2.5|        0.0|\n|       1| 2024-10-01 00:12:10|  2024-10-01 00:23:01|              1|          3.1|         1|                 N|         233|          75|           1|       14.2|  3.5|    0.5|       2.0|         0.0|                  1.0|        21.2|                 2.5|        0.0|\n|       1| 2024-10-01 00:30:22|  2024-10-01 00:30:39|              1|          0.0|         1|                 N|         262|         262|           3|        3.0|  3.5|    0.5|       0.0|         0.0|                  1.0|         8.0|                 2.5|        0.0|\n+--------+--------------------+---------------------+---------------+-------------+----------+------------------+------------+------------+------------+-----------+-----+-------+----------+------------+---------------------+------------+--------------------+-----------+\nonly showing top 5 rows\n\n"
     ]
    }
   ],
   "source": [
    "# df.head()\n",
    "\n",
    "df.show(5)\n",
    "\n",
    "# Note: This is not user-friendly."
   ]
  },
  {
   "cell_type": "code",
   "execution_count": 0,
   "metadata": {
    "application/vnd.databricks.v1+cell": {
     "cellMetadata": {
      "byteLimit": 2048000,
      "rowLimit": 10000
     },
     "inputWidgets": {},
     "nuid": "09073c60-25ae-489b-a6bf-aef5e8509c8e",
     "showTitle": false,
     "tableResultSettingsMap": {},
     "title": ""
    }
   },
   "outputs": [
    {
     "output_type": "stream",
     "name": "stdout",
     "output_type": "stream",
     "text": [
      "+--------+--------------------+---------------------+---------------+-------------+----------+------------------+------------+------------+------------+-----------+-----+-------+----------+------------+---------------------+------------+--------------------+-----------+\n|VendorID|tpep_pickup_datetime|tpep_dropoff_datetime|passenger_count|trip_distance|RatecodeID|store_and_fwd_flag|PULocationID|DOLocationID|payment_type|fare_amount|extra|mta_tax|tip_amount|tolls_amount|improvement_surcharge|total_amount|congestion_surcharge|Airport_fee|\n+--------+--------------------+---------------------+---------------+-------------+----------+------------------+------------+------------+------------+-----------+-----+-------+----------+------------+---------------------+------------+--------------------+-----------+\n|       2| 2024-10-01 00:30:44|  2024-10-01 00:48:26|              1|          3.0|         1|                 N|         162|         246|           1|       18.4|  1.0|    0.5|       1.5|         0.0|                  1.0|        24.9|                 2.5|        0.0|\n|       1| 2024-10-01 00:12:20|  2024-10-01 00:25:25|              1|          2.2|         1|                 N|          48|         236|           1|       14.2|  3.5|    0.5|       3.8|         0.0|                  1.0|        23.0|                 2.5|        0.0|\n|       1| 2024-10-01 00:04:46|  2024-10-01 00:13:52|              1|          2.7|         1|                 N|         142|          24|           1|       13.5|  3.5|    0.5|       3.7|         0.0|                  1.0|        22.2|                 2.5|        0.0|\n|       1| 2024-10-01 00:12:10|  2024-10-01 00:23:01|              1|          3.1|         1|                 N|         233|          75|           1|       14.2|  3.5|    0.5|       2.0|         0.0|                  1.0|        21.2|                 2.5|        0.0|\n|       1| 2024-10-01 00:30:22|  2024-10-01 00:30:39|              1|          0.0|         1|                 N|         262|         262|           3|        3.0|  3.5|    0.5|       0.0|         0.0|                  1.0|         8.0|                 2.5|        0.0|\n+--------+--------------------+---------------------+---------------+-------------+----------+------------------+------------+------------+------------+-----------+-----+-------+----------+------------+---------------------+------------+--------------------+-----------+\nonly showing top 5 rows\n\n"
     ]
    }
   ],
   "source": [
    "# How do we filter rows?\n",
    "\n",
    "# Remember that we don't have inplace methods, so we need to manually\n",
    "# overwrite objects or create new ones.\n",
    "\n",
    "filtered_df = df.filter(df.fare_amount > 0)\n",
    "\n",
    "# It all happens here: remember, Spark is lazy!\n",
    "filtered_df.show(5)"
   ]
  },
  {
   "cell_type": "code",
   "execution_count": 0,
   "metadata": {
    "application/vnd.databricks.v1+cell": {
     "cellMetadata": {
      "byteLimit": 2048000,
      "rowLimit": 10000
     },
     "inputWidgets": {},
     "nuid": "88a6b4b5-7f88-4313-9fab-507d2838216e",
     "showTitle": false,
     "tableResultSettingsMap": {},
     "title": ""
    }
   },
   "outputs": [
    {
     "output_type": "stream",
     "name": "stdout",
     "output_type": "stream",
     "text": [
      "+---------------+------------------+\n|passenger_count|  avg(fare_amount)|\n+---------------+------------------+\n|              9|            90.678|\n|              8| 67.64466666666667|\n|              7|              71.9|\n|              6|19.458295608434867|\n|              5| 20.46014816740322|\n|              4|26.257116339075743|\n|              3| 22.77627218119713|\n|              2|23.495920769823755|\n|              1|19.799413976360647|\n|              0| 19.83743843742998|\n|           null|20.032276619203568|\n+---------------+------------------+\n\n"
     ]
    }
   ],
   "source": [
    "# Does passenger count correlate with fare amount?\n",
    "\n",
    "agg_df = filtered_df.groupBy('passenger_count').avg('fare_amount')\n",
    "agg_df.orderBy('passenger_count', ascending=False).show()"
   ]
  },
  {
   "cell_type": "code",
   "execution_count": 0,
   "metadata": {
    "application/vnd.databricks.v1+cell": {
     "cellMetadata": {
      "byteLimit": 2048000,
      "rowLimit": 10000
     },
     "inputWidgets": {},
     "nuid": "3f81bf45-17de-4bf0-94f0-48e61a9a1dc9",
     "showTitle": false,
     "tableResultSettingsMap": {},
     "title": ""
    }
   },
   "outputs": [
    {
     "output_type": "stream",
     "name": "stdout",
     "output_type": "stream",
     "text": [
      "Out[29]: (array([-2.,  0.,  2.,  4.,  6.,  8., 10.]),\n [Text(0, 0, ''),\n  Text(0, 0, ''),\n  Text(0, 0, ''),\n  Text(0, 0, ''),\n  Text(0, 0, ''),\n  Text(0, 0, ''),\n  Text(0, 0, '')])"
     ]
    },
    {
     "output_type": "display_data",
     "data": {
      "image/png": "[encoded data removed]"
     },
     "metadata": {
      "application/vnd.databricks.v1+output": {
       "addedWidgets": {},
       "arguments": {},
       "data": "data:image/png;base64,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\n",
       "datasetInfos": [],
       "metadata": {},
       "removedWidgets": [],
       "type": "image"
      }
     },
     "output_type": "display_data"
    }
   ],
   "source": [
    "# First convert your PySpark DataFrame to Pandas\n",
    "pandas_df = agg_df.toPandas()\n",
    "\n",
    "# Create matplotlib visualization\n",
    "import matplotlib.pyplot as plt\n",
    "\n",
    "plt.figure(figsize=(10, 6))\n",
    "# Use the column names directly from the pandas DataFrame\n",
    "plt.bar(pandas_df['passenger_count'], pandas_df['avg(fare_amount)'])\n",
    "plt.title('Average Fare Amount by Passenger Count')\n",
    "plt.xlabel('Passenger Count')\n",
    "plt.ylabel('Average Fare Amount')\n",
    "plt.xticks(rotation=45)"
   ]
  },
  {
   "cell_type": "code",
   "execution_count": 0,
   "metadata": {
    "application/vnd.databricks.v1+cell": {
     "cellMetadata": {
      "byteLimit": 2048000,
      "rowLimit": 10000
     },
     "inputWidgets": {},
     "nuid": "fb824f6d-5f26-4f5c-872f-a4e30a9c49ac",
     "showTitle": false,
     "tableResultSettingsMap": {},
     "title": ""
    }
   },
   "outputs": [
    {
     "output_type": "stream",
     "name": "stdout",
     "output_type": "stream",
     "text": [
      "+---------------+------------------+------------+\n|passenger_count|      Average Fare|Maximum Fare|\n+---------------+------------------+------------+\n|           null|20.032276619203568|      525.59|\n|              0| 19.83743843742998|       700.0|\n|              1|19.799413976360647|       920.0|\n|              2|23.495920769823755|      1680.2|\n|              3| 22.77627218119713|       511.2|\n|              4|26.257116339075743|       795.0|\n|              5| 20.46014816740322|       360.0|\n|              6|19.458295608434867|       175.9|\n|              7|              71.9|        78.8|\n|              8| 67.64466666666667|       89.49|\n|              9|            90.678|       93.39|\n+---------------+------------------+------------+\n\n"
     ]
    }
   ],
   "source": [
    "# Does passenger count correlate with fare amount?\n",
    "\n",
    "from pyspark.sql.functions import *\n",
    "\n",
    "# Put these together!\n",
    "results = df.filter(df.fare_amount > 0) \\\n",
    "            .groupBy('passenger_count') \\\n",
    "            .agg(\n",
    "                mean('fare_amount').alias('Average Fare'),\n",
    "                max('fare_amount').alias('Maximum Fare')\n",
    "            ) \\\n",
    "            .orderBy('passenger_count')\n",
    "\n",
    "# Remember: Lazy!\n",
    "results.show()"
   ]
  },
  {
   "cell_type": "code",
   "execution_count": 0,
   "metadata": {
    "application/vnd.databricks.v1+cell": {
     "cellMetadata": {
      "byteLimit": 2048000,
      "rowLimit": 10000
     },
     "inputWidgets": {},
     "nuid": "6ce8942b-b3e3-45bd-9879-5cd484c84a4e",
     "showTitle": false,
     "tableResultSettingsMap": {},
     "title": ""
    }
   },
   "outputs": [],
   "source": [
    "# In order to do ML, we need to drop our NAs.\n",
    "df = df.dropna()"
   ]
  },
  {
   "cell_type": "code",
   "execution_count": 0,
   "metadata": {
    "application/vnd.databricks.v1+cell": {
     "cellMetadata": {
      "byteLimit": 2048000,
      "rowLimit": 10000
     },
     "inputWidgets": {},
     "nuid": "970e727f-71f3-4106-9b5f-5f26ee798f49",
     "showTitle": false,
     "tableResultSettingsMap": {},
     "title": ""
    }
   },
   "outputs": [],
   "source": [
    "# ML in PySpark!\n",
    "# Goal: Predict fare_amount from rateCodeId, passenger_count, trip_distance, and Airport_fee.\n",
    "\n",
    "# 1. rateCodeID should be treated as categorical --> StringIndexer\n",
    "# 2. We must assemble all of our input features together --> VectorAssembler\n",
    "\n",
    "from pyspark.ml.feature import StringIndexer, VectorAssembler \n"
   ]
  },
  {
   "cell_type": "code",
   "execution_count": 0,
   "metadata": {
    "application/vnd.databricks.v1+cell": {
     "cellMetadata": {
      "byteLimit": 2048000,
      "rowLimit": 10000
     },
     "inputWidgets": {},
     "nuid": "65442034-365a-4f67-b683-3d136839c0f6",
     "showTitle": false,
     "tableResultSettingsMap": {},
     "title": ""
    }
   },
   "outputs": [],
   "source": [
    "# Convert rateCodeID to categorical\n",
    "\n",
    "indexer = StringIndexer(inputCol='rateCodeId',\n",
    "                        outputCol='rateCodeId_index')\n",
    "\n",
    "indexed_data = indexer.fit(df).transform(df)"
   ]
  },
  {
   "cell_type": "code",
   "execution_count": 0,
   "metadata": {
    "application/vnd.databricks.v1+cell": {
     "cellMetadata": {
      "byteLimit": 2048000,
      "rowLimit": 10000
     },
     "inputWidgets": {},
     "nuid": "9860adf0-8c43-435e-a584-b48366c295d3",
     "showTitle": false,
     "tableResultSettingsMap": {},
     "title": ""
    }
   },
   "outputs": [],
   "source": [
    "# In order to do ML in PySpark, we have to assemble all of our features together. (VectorAssembler)\n",
    "\n",
    "# Define input columns.\n",
    "input_columns = ['rateCodeId_index', 'passenger_count', 'trip_distance', 'Airport_fee']\n",
    "\n",
    "# Assemble our features together.\n",
    "assembler = VectorAssembler(inputCols=input_columns\n",
    "                            ,outputCol='features')\n",
    "\n",
    "final_data = assembler.transform(indexed_data).select('features', 'fare_amount')"
   ]
  },
  {
   "cell_type": "code",
   "execution_count": 0,
   "metadata": {
    "application/vnd.databricks.v1+cell": {
     "cellMetadata": {
      "byteLimit": 2048000,
      "rowLimit": 10000
     },
     "inputWidgets": {},
     "nuid": "0d0c8c85-82bf-4f1d-9c8b-cb60528d9870",
     "showTitle": false,
     "tableResultSettingsMap": {},
     "title": ""
    }
   },
   "outputs": [
    {
     "output_type": "stream",
     "name": "stdout",
     "output_type": "stream",
     "text": [
      "+-------------------+-----------+\n|           features|fare_amount|\n+-------------------+-----------+\n|  [0.0,1.0,3.0,0.0]|       18.4|\n|  [0.0,1.0,2.2,0.0]|       14.2|\n|  [0.0,1.0,2.7,0.0]|       13.5|\n|  [0.0,1.0,3.1,0.0]|       14.2|\n|      (4,[1],[1.0])|        3.0|\n| [0.0,2.0,0.97,0.0]|        7.2|\n|  [0.0,1.0,1.3,0.0]|        7.9|\n|  [0.0,1.0,0.5,0.0]|        5.1|\n|      (4,[2],[1.1])|        7.2|\n|  [0.0,1.0,2.2,0.0]|       11.4|\n|  [0.0,1.0,0.6,0.0]|        5.1|\n|  [0.0,1.0,0.9,0.0]|        7.9|\n| [0.0,1.0,1.33,0.0]|        9.3|\n| [0.0,1.0,1.79,0.0]|        9.3|\n| [0.0,1.0,5.16,0.0]|       24.7|\n| [2.0,1.0,11.3,0.0]|       39.5|\n|[0.0,1.0,20.6,1.75]|       76.5|\n| [0.0,2.0,7.42,0.0]|      -33.1|\n| [0.0,2.0,7.42,0.0]|       33.1|\n| [0.0,1.0,4.49,0.0]|       21.9|\n+-------------------+-----------+\nonly showing top 20 rows\n\n"
     ]
    }
   ],
   "source": [
    "final_data.show()"
   ]
  },
  {
   "cell_type": "code",
   "execution_count": 0,
   "metadata": {
    "application/vnd.databricks.v1+cell": {
     "cellMetadata": {
      "byteLimit": 2048000,
      "rowLimit": 10000
     },
     "inputWidgets": {},
     "nuid": "33b152b1-c11e-46a2-a8d4-db93d273ed0a",
     "showTitle": false,
     "tableResultSettingsMap": {},
     "title": ""
    }
   },
   "outputs": [],
   "source": [
    "# Split data into training and testing\n",
    "train_data, test_data = final_data.randomSplit([0.8, 0.2], seed=42)"
   ]
  },
  {
   "cell_type": "code",
   "execution_count": 0,
   "metadata": {
    "application/vnd.databricks.v1+cell": {
     "cellMetadata": {
      "byteLimit": 2048000,
      "rowLimit": 10000
     },
     "inputWidgets": {},
     "nuid": "2ca920a3-91a1-4f7c-9148-175b17f58d08",
     "showTitle": false,
     "tableResultSettingsMap": {},
     "title": ""
    }
   },
   "outputs": [],
   "source": [
    "# Fit our random forest model\n",
    "\n",
    "from pyspark.ml.regression import RandomForestRegressor\n",
    "\n",
    "# Instantiate our model\n",
    "rf = RandomForestRegressor(featuresCol='features'\n",
    "                           ,labelCol='fare_amount'\n",
    "                           ,maxDepth=5\n",
    "                           ,numTrees=10)\n",
    "\n",
    "# Fit our model to the training data.\n",
    "rf_model = rf.fit(train_data)\n",
    "\n",
    "# Remember to save your fitted object as a new object, because Spark objects are immutable!"
   ]
  },
  {
   "cell_type": "code",
   "execution_count": 0,
   "metadata": {
    "application/vnd.databricks.v1+cell": {
     "cellMetadata": {
      "byteLimit": 2048000,
      "rowLimit": 10000
     },
     "inputWidgets": {},
     "nuid": "062f8b8b-1b3f-4aa3-9757-69ae9c374fae",
     "showTitle": false,
     "tableResultSettingsMap": {},
     "title": ""
    }
   },
   "outputs": [
    {
     "output_type": "stream",
     "name": "stdout",
     "output_type": "stream",
     "text": [
      "+---------+-----------+------------------+\n| features|fare_amount|        prediction|\n+---------+-----------+------------------+\n|(4,[],[])|        0.0|10.006282168181741|\n|(4,[],[])|        0.0|10.006282168181741|\n|(4,[],[])|        2.5|10.006282168181741|\n|(4,[],[])|        3.0|10.006282168181741|\n|(4,[],[])|        3.0|10.006282168181741|\n+---------+-----------+------------------+\nonly showing top 5 rows\n\n"
     ]
    }
   ],
   "source": [
    "# Generate predictions\n",
    "predictions = rf_model.transform(test_data)\n",
    "\n",
    "# Show predictions along with actual values\n",
    "predictions.select(\"features\", \"fare_amount\", \"prediction\").show(5)"
   ]
  },
  {
   "cell_type": "code",
   "execution_count": 0,
   "metadata": {
    "application/vnd.databricks.v1+cell": {
     "cellMetadata": {
      "byteLimit": 2048000,
      "rowLimit": 10000
     },
     "inputWidgets": {},
     "nuid": "46d57ff1-fdeb-4edb-b654-48144e4a89f2",
     "showTitle": false,
     "tableResultSettingsMap": {},
     "title": ""
    }
   },
   "outputs": [
    {
     "output_type": "stream",
     "name": "stdout",
     "output_type": "stream",
     "text": [
      "Root Mean Squared Error (RMSE): 9.51721616713438\n"
     ]
    }
   ],
   "source": [
    "from pyspark.ml.evaluation import RegressionEvaluator\n",
    "\n",
    "evaluator = RegressionEvaluator(\n",
    "    labelCol=\"fare_amount\",\n",
    "    predictionCol=\"prediction\",\n",
    "    metricName=\"rmse\"\n",
    ")\n",
    "\n",
    "rmse = evaluator.evaluate(predictions)\n",
    "print(\"Root Mean Squared Error (RMSE):\", rmse)"
   ]
  }
 ],
 "metadata": {
  "application/vnd.databricks.v1+notebook": {
   "computePreferences": null,
   "dashboards": [],
   "environmentMetadata": {
    "base_environment": "",
    "environment_version": "1"
   },
   "inputWidgetPreferences": null,
   "language": "python",
   "notebookMetadata": {
    "pythonIndentUnit": 4
   },
   "notebookName": "taxi_trips_analysis",
   "widgets": {}
  }
 },
 "nbformat": 4,
 "nbformat_minor": 0
}